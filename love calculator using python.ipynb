{
 "cells": [
  {
   "cell_type": "code",
   "execution_count": 1,
   "metadata": {},
   "outputs": [
    {
     "name": "stdout",
     "output_type": "stream",
     "text": [
      "Welcome to the Love Calculator!\n",
      "What is your name? \n",
      "nuruden\n",
      "What is their name? \n",
      "eee\n",
      "your score is 74, you are alright together.\n"
     ]
    }
   ],
   "source": [
    "\n",
    "print(\"Welcome to the Love Calculator!\")\n",
    "name1 = input(\"What is your name? \\n\")\n",
    "name2 = input(\"What is their name? \\n\")\n",
    "\n",
    "\n",
    "\n",
    "total_name = name1 + name2\n",
    "lower_total_name = total_name.lower()\n",
    "\n",
    "t = lower_total_name.count(\"t\")\n",
    "r = lower_total_name.count(\"r\")\n",
    "u = lower_total_name.count(\"u\")\n",
    "e = lower_total_name.count(\"e\")\n",
    "\n",
    "true = t + r + u + e\n",
    "\n",
    "l = lower_total_name.count(\"l\")\n",
    "o = lower_total_name.count(\"o\")\n",
    "v = lower_total_name.count(\"v\")\n",
    "e = lower_total_name.count(\"e\")\n",
    "\n",
    "love = l + o + v + e\n",
    "love_score = int(str(true) + str(love))\n",
    "if love_score < 10 or love_score > 90:\n",
    "    print(f\"your score is {love_score}, you go together like coke and mentos.\")\n",
    "elif love_score >= 40 or love_score <= 50:\n",
    "    print(f\"your score is {love_score}, you are alright together.\")\n",
    "else:\n",
    "    print(f\"your score is {love_score},\")"
   ]
  },
  {
   "cell_type": "code",
   "execution_count": null,
   "metadata": {},
   "outputs": [],
   "source": []
  }
 ],
 "metadata": {
  "kernelspec": {
   "display_name": "Python 3",
   "language": "python",
   "name": "python3"
  },
  "language_info": {
   "codemirror_mode": {
    "name": "ipython",
    "version": 3
   },
   "file_extension": ".py",
   "mimetype": "text/x-python",
   "name": "python",
   "nbconvert_exporter": "python",
   "pygments_lexer": "ipython3",
   "version": "3.7.9"
  }
 },
 "nbformat": 4,
 "nbformat_minor": 4
}
